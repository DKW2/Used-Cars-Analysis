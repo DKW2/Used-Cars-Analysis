{
 "cells": [
  {
   "cell_type": "markdown",
   "metadata": {},
   "source": [
    "# What drives the price of a car?\n",
    "\n",
    "![](images/kurt.jpeg)"
   ]
  },
  {
   "cell_type": "markdown",
   "metadata": {},
   "source": [
    "**OVERVIEW**\n",
    "\n",
    "In this application, you will explore a dataset from kaggle. The original dataset contained information on 3 million used cars. The provided dataset contains information on 426K cars to ensure speed of processing.  Your goal is to understand what factors make a car more or less expensive.  As a result of your analysis, you should provide clear recommendations to your client -- a used car dealership -- as to what consumers value in a used car."
   ]
  },
  {
   "cell_type": "markdown",
   "metadata": {},
   "source": [
    "### CRISP-DM Framework\n",
    "\n",
    "<center>\n",
    "    <img src = images/crisp.png width = 50%/>\n",
    "</center>\n",
    "\n",
    "\n",
    "To frame the task, throughout our practical applications we will refer back to a standard process in industry for data projects called CRISP-DM.  This process provides a framework for working through a data problem.  Your first step in this application will be to read through a brief overview of CRISP-DM [here](https://mo-pcco.s3.us-east-1.amazonaws.com/BH-PCMLAI/module_11/readings_starter.zip).  After reading the overview, answer the questions below."
   ]
  },
  {
   "cell_type": "markdown",
   "metadata": {},
   "source": [
    "## Business Understanding\n",
    "\n",
    "From a business perspective, we are tasked with identifying key drivers for used car prices.  In the CRISP-DM overview, we are asked to convert this business framing to a data problem definition.  Using a few sentences, reframe the task as a data task with the appropriate technical vocabulary. "
   ]
  },
  {
   "cell_type": "markdown",
   "metadata": {},
   "source": [
    "### Task:\n",
    "\n",
    "Given a dataset of used cars with their prices and features, we wish to identify and extract the features that correlate the strongest with sales price. This would involve training accurate models to predict sales prices, choosing the best one, and identifying which features were the most significant factors in the model. Once we discover these features, we need to create a final report on the features and explain how impactful each one is on sales price and why."
   ]
  },
  {
   "cell_type": "markdown",
   "metadata": {},
   "source": [
    "## Data Understanding\n",
    "\n",
    "After considering the business understanding, we want to get familiar with our data.  Write down some steps that you would take to get to know the dataset and identify any quality issues within.  Take time to get to know the dataset and explore what information it contains and how this could be used to inform your business understanding."
   ]
  },
  {
   "cell_type": "markdown",
   "metadata": {},
   "source": [
    "### Things to do:\n",
    "\n",
    "1) Look through the dataset and get a general gist of the dataset. For example, getting the total length of the dataset, seeing how many columns there are, what the column types are, and the range/unique values for each column\n",
    "2) Find any NULL values or typos or errors in the dataset and decide on how to proceed with the data (whether to drop it or replace it with something)\n",
    "3) Also note any unnecessary columns that don't have much impact, i.e. a column with a single unique value\n",
    "4) Since we're also probably gonna use Linear Regression to train models, we also need to keep track of potential features to use/remove/transform."
   ]
  },
  {
   "cell_type": "code",
   "execution_count": 397,
   "metadata": {},
   "outputs": [],
   "source": [
    "# Import the necessary libraries for retrieving the data\n",
    "import numpy as np\n",
    "import plotly.express as px\n",
    "import seaborn as sns\n",
    "import pandas as pd"
   ]
  },
  {
   "cell_type": "code",
   "execution_count": 2,
   "metadata": {},
   "outputs": [],
   "source": [
    "# Load in the dataframe\n",
    "cars = pd.read_csv( \"data/vehicles.csv\" )"
   ]
  },
  {
   "cell_type": "code",
   "execution_count": 3,
   "metadata": {},
   "outputs": [
    {
     "name": "stdout",
     "output_type": "stream",
     "text": [
      "<class 'pandas.core.frame.DataFrame'>\n",
      "RangeIndex: 426880 entries, 0 to 426879\n",
      "Data columns (total 18 columns):\n",
      " #   Column        Non-Null Count   Dtype  \n",
      "---  ------        --------------   -----  \n",
      " 0   id            426880 non-null  int64  \n",
      " 1   region        426880 non-null  object \n",
      " 2   price         426880 non-null  int64  \n",
      " 3   year          425675 non-null  float64\n",
      " 4   manufacturer  409234 non-null  object \n",
      " 5   model         421603 non-null  object \n",
      " 6   condition     252776 non-null  object \n",
      " 7   cylinders     249202 non-null  object \n",
      " 8   fuel          423867 non-null  object \n",
      " 9   odometer      422480 non-null  float64\n",
      " 10  title_status  418638 non-null  object \n",
      " 11  transmission  424324 non-null  object \n",
      " 12  VIN           265838 non-null  object \n",
      " 13  drive         296313 non-null  object \n",
      " 14  size          120519 non-null  object \n",
      " 15  type          334022 non-null  object \n",
      " 16  paint_color   296677 non-null  object \n",
      " 17  state         426880 non-null  object \n",
      "dtypes: float64(2), int64(2), object(14)\n",
      "memory usage: 58.6+ MB\n"
     ]
    }
   ],
   "source": [
    "# Look at the info of the dataset\n",
    "cars.info()"
   ]
  },
  {
   "cell_type": "code",
   "execution_count": 4,
   "metadata": {},
   "outputs": [
    {
     "data": {
      "text/html": [
       "<div>\n",
       "<style scoped>\n",
       "    .dataframe tbody tr th:only-of-type {\n",
       "        vertical-align: middle;\n",
       "    }\n",
       "\n",
       "    .dataframe tbody tr th {\n",
       "        vertical-align: top;\n",
       "    }\n",
       "\n",
       "    .dataframe thead th {\n",
       "        text-align: right;\n",
       "    }\n",
       "</style>\n",
       "<table border=\"1\" class=\"dataframe\">\n",
       "  <thead>\n",
       "    <tr style=\"text-align: right;\">\n",
       "      <th></th>\n",
       "      <th>id</th>\n",
       "      <th>region</th>\n",
       "      <th>price</th>\n",
       "      <th>year</th>\n",
       "      <th>manufacturer</th>\n",
       "      <th>model</th>\n",
       "      <th>condition</th>\n",
       "      <th>cylinders</th>\n",
       "      <th>fuel</th>\n",
       "      <th>odometer</th>\n",
       "      <th>title_status</th>\n",
       "      <th>transmission</th>\n",
       "      <th>VIN</th>\n",
       "      <th>drive</th>\n",
       "      <th>size</th>\n",
       "      <th>type</th>\n",
       "      <th>paint_color</th>\n",
       "      <th>state</th>\n",
       "    </tr>\n",
       "  </thead>\n",
       "  <tbody>\n",
       "    <tr>\n",
       "      <th>0</th>\n",
       "      <td>7222695916</td>\n",
       "      <td>prescott</td>\n",
       "      <td>6000</td>\n",
       "      <td>NaN</td>\n",
       "      <td>NaN</td>\n",
       "      <td>NaN</td>\n",
       "      <td>NaN</td>\n",
       "      <td>NaN</td>\n",
       "      <td>NaN</td>\n",
       "      <td>NaN</td>\n",
       "      <td>NaN</td>\n",
       "      <td>NaN</td>\n",
       "      <td>NaN</td>\n",
       "      <td>NaN</td>\n",
       "      <td>NaN</td>\n",
       "      <td>NaN</td>\n",
       "      <td>NaN</td>\n",
       "      <td>az</td>\n",
       "    </tr>\n",
       "    <tr>\n",
       "      <th>1</th>\n",
       "      <td>7218891961</td>\n",
       "      <td>fayetteville</td>\n",
       "      <td>11900</td>\n",
       "      <td>NaN</td>\n",
       "      <td>NaN</td>\n",
       "      <td>NaN</td>\n",
       "      <td>NaN</td>\n",
       "      <td>NaN</td>\n",
       "      <td>NaN</td>\n",
       "      <td>NaN</td>\n",
       "      <td>NaN</td>\n",
       "      <td>NaN</td>\n",
       "      <td>NaN</td>\n",
       "      <td>NaN</td>\n",
       "      <td>NaN</td>\n",
       "      <td>NaN</td>\n",
       "      <td>NaN</td>\n",
       "      <td>ar</td>\n",
       "    </tr>\n",
       "    <tr>\n",
       "      <th>2</th>\n",
       "      <td>7221797935</td>\n",
       "      <td>florida keys</td>\n",
       "      <td>21000</td>\n",
       "      <td>NaN</td>\n",
       "      <td>NaN</td>\n",
       "      <td>NaN</td>\n",
       "      <td>NaN</td>\n",
       "      <td>NaN</td>\n",
       "      <td>NaN</td>\n",
       "      <td>NaN</td>\n",
       "      <td>NaN</td>\n",
       "      <td>NaN</td>\n",
       "      <td>NaN</td>\n",
       "      <td>NaN</td>\n",
       "      <td>NaN</td>\n",
       "      <td>NaN</td>\n",
       "      <td>NaN</td>\n",
       "      <td>fl</td>\n",
       "    </tr>\n",
       "    <tr>\n",
       "      <th>3</th>\n",
       "      <td>7222270760</td>\n",
       "      <td>worcester / central MA</td>\n",
       "      <td>1500</td>\n",
       "      <td>NaN</td>\n",
       "      <td>NaN</td>\n",
       "      <td>NaN</td>\n",
       "      <td>NaN</td>\n",
       "      <td>NaN</td>\n",
       "      <td>NaN</td>\n",
       "      <td>NaN</td>\n",
       "      <td>NaN</td>\n",
       "      <td>NaN</td>\n",
       "      <td>NaN</td>\n",
       "      <td>NaN</td>\n",
       "      <td>NaN</td>\n",
       "      <td>NaN</td>\n",
       "      <td>NaN</td>\n",
       "      <td>ma</td>\n",
       "    </tr>\n",
       "    <tr>\n",
       "      <th>4</th>\n",
       "      <td>7210384030</td>\n",
       "      <td>greensboro</td>\n",
       "      <td>4900</td>\n",
       "      <td>NaN</td>\n",
       "      <td>NaN</td>\n",
       "      <td>NaN</td>\n",
       "      <td>NaN</td>\n",
       "      <td>NaN</td>\n",
       "      <td>NaN</td>\n",
       "      <td>NaN</td>\n",
       "      <td>NaN</td>\n",
       "      <td>NaN</td>\n",
       "      <td>NaN</td>\n",
       "      <td>NaN</td>\n",
       "      <td>NaN</td>\n",
       "      <td>NaN</td>\n",
       "      <td>NaN</td>\n",
       "      <td>nc</td>\n",
       "    </tr>\n",
       "  </tbody>\n",
       "</table>\n",
       "</div>"
      ],
      "text/plain": [
       "           id                  region  price  year manufacturer model  \\\n",
       "0  7222695916                prescott   6000   NaN          NaN   NaN   \n",
       "1  7218891961            fayetteville  11900   NaN          NaN   NaN   \n",
       "2  7221797935            florida keys  21000   NaN          NaN   NaN   \n",
       "3  7222270760  worcester / central MA   1500   NaN          NaN   NaN   \n",
       "4  7210384030              greensboro   4900   NaN          NaN   NaN   \n",
       "\n",
       "  condition cylinders fuel  odometer title_status transmission  VIN drive  \\\n",
       "0       NaN       NaN  NaN       NaN          NaN          NaN  NaN   NaN   \n",
       "1       NaN       NaN  NaN       NaN          NaN          NaN  NaN   NaN   \n",
       "2       NaN       NaN  NaN       NaN          NaN          NaN  NaN   NaN   \n",
       "3       NaN       NaN  NaN       NaN          NaN          NaN  NaN   NaN   \n",
       "4       NaN       NaN  NaN       NaN          NaN          NaN  NaN   NaN   \n",
       "\n",
       "  size type paint_color state  \n",
       "0  NaN  NaN         NaN    az  \n",
       "1  NaN  NaN         NaN    ar  \n",
       "2  NaN  NaN         NaN    fl  \n",
       "3  NaN  NaN         NaN    ma  \n",
       "4  NaN  NaN         NaN    nc  "
      ]
     },
     "execution_count": 4,
     "metadata": {},
     "output_type": "execute_result"
    }
   ],
   "source": [
    "# See what the data looks like\n",
    "cars.head()"
   ]
  },
  {
   "cell_type": "markdown",
   "metadata": {},
   "source": [
    "### Examining NaN Values"
   ]
  },
  {
   "cell_type": "code",
   "execution_count": 5,
   "metadata": {},
   "outputs": [
    {
     "data": {
      "text/plain": [
       "id                   0\n",
       "region               0\n",
       "price                0\n",
       "year              1205\n",
       "manufacturer     17646\n",
       "model             5277\n",
       "condition       174104\n",
       "cylinders       177678\n",
       "fuel              3013\n",
       "odometer          4400\n",
       "title_status      8242\n",
       "transmission      2556\n",
       "VIN             161042\n",
       "drive           130567\n",
       "size            306361\n",
       "type             92858\n",
       "paint_color     130203\n",
       "state                0\n",
       "dtype: int64"
      ]
     },
     "execution_count": 5,
     "metadata": {},
     "output_type": "execute_result"
    }
   ],
   "source": [
    "# By how there are a bunch of NaN, check how many Nan's are in the dataset\n",
    "cars.isna().sum()"
   ]
  },
  {
   "cell_type": "code",
   "execution_count": 7,
   "metadata": {},
   "outputs": [
    {
     "name": "stdout",
     "output_type": "stream",
     "text": [
      "Total rows: 426880\n",
      "Non-NaN rows: 34868\n",
      "Difference: 392012\n"
     ]
    }
   ],
   "source": [
    "# See how many rows without any NaN's there are\n",
    "print( \"Total rows:\", len( cars ) )\n",
    "print( \"Non-NaN rows:\", len( cars.dropna() ) )\n",
    "print( \"Difference:\", len( cars ) - len( cars.dropna() ) )"
   ]
  },
  {
   "cell_type": "markdown",
   "metadata": {},
   "source": [
    "Yikes, that's a lot of rows with NaN. To reduce the amount of dropped rows, dropping some columns would probably be useful. So let's look at some of the columns"
   ]
  },
  {
   "cell_type": "code",
   "execution_count": 189,
   "metadata": {},
   "outputs": [
    {
     "data": {
      "text/html": [
       "<div>\n",
       "<style scoped>\n",
       "    .dataframe tbody tr th:only-of-type {\n",
       "        vertical-align: middle;\n",
       "    }\n",
       "\n",
       "    .dataframe tbody tr th {\n",
       "        vertical-align: top;\n",
       "    }\n",
       "\n",
       "    .dataframe thead th {\n",
       "        text-align: right;\n",
       "    }\n",
       "</style>\n",
       "<table border=\"1\" class=\"dataframe\">\n",
       "  <thead>\n",
       "    <tr style=\"text-align: right;\">\n",
       "      <th></th>\n",
       "      <th>id</th>\n",
       "      <th>region</th>\n",
       "      <th>price</th>\n",
       "      <th>year</th>\n",
       "      <th>manufacturer</th>\n",
       "      <th>model</th>\n",
       "      <th>condition</th>\n",
       "      <th>cylinders</th>\n",
       "      <th>fuel</th>\n",
       "      <th>odometer</th>\n",
       "      <th>title_status</th>\n",
       "      <th>transmission</th>\n",
       "      <th>VIN</th>\n",
       "      <th>drive</th>\n",
       "      <th>size</th>\n",
       "      <th>type</th>\n",
       "      <th>paint_color</th>\n",
       "      <th>state</th>\n",
       "    </tr>\n",
       "  </thead>\n",
       "  <tbody>\n",
       "    <tr>\n",
       "      <th>126</th>\n",
       "      <td>7305672709</td>\n",
       "      <td>auburn</td>\n",
       "      <td>0</td>\n",
       "      <td>2018.0</td>\n",
       "      <td>chevrolet</td>\n",
       "      <td>express cargo van</td>\n",
       "      <td>like new</td>\n",
       "      <td>6 cylinders</td>\n",
       "      <td>gas</td>\n",
       "      <td>68472.0</td>\n",
       "      <td>clean</td>\n",
       "      <td>automatic</td>\n",
       "      <td>1GCWGAFP8J1309579</td>\n",
       "      <td>rwd</td>\n",
       "      <td>full-size</td>\n",
       "      <td>van</td>\n",
       "      <td>white</td>\n",
       "      <td>al</td>\n",
       "    </tr>\n",
       "    <tr>\n",
       "      <th>127</th>\n",
       "      <td>7305672266</td>\n",
       "      <td>auburn</td>\n",
       "      <td>0</td>\n",
       "      <td>2019.0</td>\n",
       "      <td>chevrolet</td>\n",
       "      <td>express cargo van</td>\n",
       "      <td>like new</td>\n",
       "      <td>6 cylinders</td>\n",
       "      <td>gas</td>\n",
       "      <td>69125.0</td>\n",
       "      <td>clean</td>\n",
       "      <td>automatic</td>\n",
       "      <td>1GCWGAFP4K1214373</td>\n",
       "      <td>rwd</td>\n",
       "      <td>full-size</td>\n",
       "      <td>van</td>\n",
       "      <td>white</td>\n",
       "      <td>al</td>\n",
       "    </tr>\n",
       "    <tr>\n",
       "      <th>128</th>\n",
       "      <td>7305672252</td>\n",
       "      <td>auburn</td>\n",
       "      <td>0</td>\n",
       "      <td>2018.0</td>\n",
       "      <td>chevrolet</td>\n",
       "      <td>express cargo van</td>\n",
       "      <td>like new</td>\n",
       "      <td>6 cylinders</td>\n",
       "      <td>gas</td>\n",
       "      <td>66555.0</td>\n",
       "      <td>clean</td>\n",
       "      <td>automatic</td>\n",
       "      <td>1GCWGAFPXJ1337903</td>\n",
       "      <td>rwd</td>\n",
       "      <td>full-size</td>\n",
       "      <td>van</td>\n",
       "      <td>white</td>\n",
       "      <td>al</td>\n",
       "    </tr>\n",
       "    <tr>\n",
       "      <th>215</th>\n",
       "      <td>7316482063</td>\n",
       "      <td>birmingham</td>\n",
       "      <td>4000</td>\n",
       "      <td>2002.0</td>\n",
       "      <td>toyota</td>\n",
       "      <td>echo</td>\n",
       "      <td>excellent</td>\n",
       "      <td>4 cylinders</td>\n",
       "      <td>gas</td>\n",
       "      <td>155000.0</td>\n",
       "      <td>clean</td>\n",
       "      <td>automatic</td>\n",
       "      <td>JTDBT123520243495</td>\n",
       "      <td>fwd</td>\n",
       "      <td>compact</td>\n",
       "      <td>sedan</td>\n",
       "      <td>blue</td>\n",
       "      <td>al</td>\n",
       "    </tr>\n",
       "    <tr>\n",
       "      <th>219</th>\n",
       "      <td>7316429417</td>\n",
       "      <td>birmingham</td>\n",
       "      <td>2500</td>\n",
       "      <td>1995.0</td>\n",
       "      <td>bmw</td>\n",
       "      <td>525i</td>\n",
       "      <td>fair</td>\n",
       "      <td>6 cylinders</td>\n",
       "      <td>gas</td>\n",
       "      <td>110661.0</td>\n",
       "      <td>clean</td>\n",
       "      <td>automatic</td>\n",
       "      <td>WBAHD6322SGK86772</td>\n",
       "      <td>rwd</td>\n",
       "      <td>mid-size</td>\n",
       "      <td>sedan</td>\n",
       "      <td>white</td>\n",
       "      <td>al</td>\n",
       "    </tr>\n",
       "  </tbody>\n",
       "</table>\n",
       "</div>"
      ],
      "text/plain": [
       "             id      region  price    year manufacturer              model  \\\n",
       "126  7305672709      auburn      0  2018.0    chevrolet  express cargo van   \n",
       "127  7305672266      auburn      0  2019.0    chevrolet  express cargo van   \n",
       "128  7305672252      auburn      0  2018.0    chevrolet  express cargo van   \n",
       "215  7316482063  birmingham   4000  2002.0       toyota               echo   \n",
       "219  7316429417  birmingham   2500  1995.0          bmw               525i   \n",
       "\n",
       "     condition    cylinders fuel  odometer title_status transmission  \\\n",
       "126   like new  6 cylinders  gas   68472.0        clean    automatic   \n",
       "127   like new  6 cylinders  gas   69125.0        clean    automatic   \n",
       "128   like new  6 cylinders  gas   66555.0        clean    automatic   \n",
       "215  excellent  4 cylinders  gas  155000.0        clean    automatic   \n",
       "219       fair  6 cylinders  gas  110661.0        clean    automatic   \n",
       "\n",
       "                   VIN drive       size   type paint_color state  \n",
       "126  1GCWGAFP8J1309579   rwd  full-size    van       white    al  \n",
       "127  1GCWGAFP4K1214373   rwd  full-size    van       white    al  \n",
       "128  1GCWGAFPXJ1337903   rwd  full-size    van       white    al  \n",
       "215  JTDBT123520243495   fwd    compact  sedan        blue    al  \n",
       "219  WBAHD6322SGK86772   rwd   mid-size  sedan       white    al  "
      ]
     },
     "execution_count": 189,
     "metadata": {},
     "output_type": "execute_result"
    }
   ],
   "source": [
    "# See actual examples of the data\n",
    "cars.dropna().head()"
   ]
  },
  {
   "cell_type": "code",
   "execution_count": 8,
   "metadata": {},
   "outputs": [
    {
     "data": {
      "text/plain": [
       "id              426880\n",
       "region             404\n",
       "price            15655\n",
       "year               114\n",
       "manufacturer        42\n",
       "model            29649\n",
       "condition            6\n",
       "cylinders            8\n",
       "fuel                 5\n",
       "odometer        104870\n",
       "title_status         6\n",
       "transmission         3\n",
       "VIN             118246\n",
       "drive                3\n",
       "size                 4\n",
       "type                13\n",
       "paint_color         12\n",
       "state               51\n",
       "dtype: int64"
      ]
     },
     "execution_count": 8,
     "metadata": {},
     "output_type": "execute_result"
    }
   ],
   "source": [
    "# See how many unique values are in the dataset\n",
    "cars.nunique()"
   ]
  },
  {
   "cell_type": "markdown",
   "metadata": {},
   "source": [
    "One note is that \"VIN\" is probably too specific, so we can drop it. Same logic applied to \"model\". If we were to transform it with One-Hot encoding, we would end up with 29649 additional columns, which would bloat the data. In addition, we should drop \"id\" since it's more of an identifier than a feature of the data. We can also drop \"size\" since it contains the most NaN values while also being a bit specific and not very important. Features such as type can easily represent \"size\" pretty well, so it's not needed. Lastly, we wish to know the general trend of cars rather than trends based on geographic region, so we can drop the \"state\" and \"region\" columns as well. This also helps reduce the number of unique features in the dataset."
   ]
  },
  {
   "cell_type": "markdown",
   "metadata": {},
   "source": [
    "### Finding Outliers"
   ]
  },
  {
   "cell_type": "code",
   "execution_count": 406,
   "metadata": {},
   "outputs": [
    {
     "name": "stdout",
     "output_type": "stream",
     "text": [
      "0 3736928711\n"
     ]
    }
   ],
   "source": [
    "# Lets look at the price and see if there are any outliers\n",
    "print( min( cars[\"price\"] ), max( cars[\"price\"] ))\n",
    "\n",
    "# We can't even plot it since the max is so big\n",
    "#sns.histplot( cars[\"price\"] )"
   ]
  },
  {
   "cell_type": "code",
   "execution_count": 393,
   "metadata": {},
   "outputs": [
    {
     "name": "stdout",
     "output_type": "stream",
     "text": [
      "Price > 150k: 196\n",
      "Price == 0: 32895\n"
     ]
    }
   ],
   "source": [
    "# There definitely are outliers in price. So lets limit the data.\n",
    "print( \"Price > 150k:\", len( cars[cars[\"price\"] > 150000] ) )\n",
    "\n",
    "# In addition, used cars with a price of zero doesn't make much sense, so we'll probably remove these as well\n",
    "print( \"Price == 0:\", len( cars[cars[\"price\"] == 0] ) )"
   ]
  },
  {
   "cell_type": "code",
   "execution_count": 413,
   "metadata": {},
   "outputs": [
    {
     "data": {
      "text/plain": [
       "Text(0.5, 1.0, 'Histogram of Sales Price without outliers')"
      ]
     },
     "execution_count": 413,
     "metadata": {},
     "output_type": "execute_result"
    },
    {
     "data": {
      "image/png": "[encoded data removed]",
      "text/plain": [
       "<Figure size 640x480 with 1 Axes>"
      ]
     },
     "metadata": {},
     "output_type": "display_data"
    }
   ],
   "source": [
    "# With the outliers gone, the data looks a lot better\n",
    "sns.histplot( cars[(cars[\"price\"] > 0) & (cars[\"price\"] < 150000)][\"price\"] )\n",
    "plt.title( \"Histogram of Sales Price without outliers\" )"
   ]
  },
  {
   "cell_type": "markdown",
   "metadata": {},
   "source": [
    "Most prices are between 0 - 100000, so we can remove the outliers above the range or equal to zero when prepping the data."
   ]
  },
  {
   "cell_type": "code",
   "execution_count": 414,
   "metadata": {},
   "outputs": [
    {
     "data": {
      "text/plain": [
       "Text(0.5, 1.0, 'Histogram of all odometer data')"
      ]
     },
     "execution_count": 414,
     "metadata": {},
     "output_type": "execute_result"
    },
    {
     "data": {
      "image/png": "[encoded data removed]",
      "text/plain": [
       "<Figure size 640x480 with 1 Axes>"
      ]
     },
     "metadata": {},
     "output_type": "display_data"
    }
   ],
   "source": [
    "# Lets also look at odometer for outliers\n",
    "sns.histplot( cars[\"odometer\"] )\n",
    "plt.title( \"Histogram of all odometer data\" )"
   ]
  },
  {
   "cell_type": "code",
   "execution_count": 100,
   "metadata": {},
   "outputs": [
    {
     "name": "stdout",
     "output_type": "stream",
     "text": [
      "Odometer > 200k: 124\n"
     ]
    }
   ],
   "source": [
    "# There definitely are outliers in odometer. So lets limit the data.\n",
    "print( \"Odometer > 200k:\", len( cars[cars[\"price\"] > 200000] ) )"
   ]
  },
  {
   "cell_type": "code",
   "execution_count": 415,
   "metadata": {},
   "outputs": [
    {
     "data": {
      "text/plain": [
       "Text(0.5, 1.0, 'Histogram of odometer without outliers')"
      ]
     },
     "execution_count": 415,
     "metadata": {},
     "output_type": "execute_result"
    },
    {
     "data": {
      "image/png": "[encoded data removed]",
      "text/plain": [
       "<Figure size 640x480 with 1 Axes>"
      ]
     },
     "metadata": {},
     "output_type": "display_data"
    }
   ],
   "source": [
    "# With the outliers gone, the data looks a lot better\n",
    "sns.histplot( cars[cars[\"odometer\"] < 200000][\"odometer\"] )\n",
    "plt.title( \"Histogram of odometer without outliers\")"
   ]
  },
  {
   "cell_type": "markdown",
   "metadata": {},
   "source": [
    "After removing the outliers, we have an odometer range of 0 - 200k."
   ]
  },
  {
   "cell_type": "markdown",
   "metadata": {},
   "source": [
    "### Feature Analysis"
   ]
  },
  {
   "cell_type": "markdown",
   "metadata": {},
   "source": [
    "Now lets look at some of the features and see if any need to be transformed. Most of the features are string objects, so we'll probably need to use one-hot encoding for them."
   ]
  },
  {
   "cell_type": "markdown",
   "metadata": {},
   "source": [
    "#### Year"
   ]
  },
  {
   "cell_type": "code",
   "execution_count": 31,
   "metadata": {},
   "outputs": [
    {
     "data": {
      "text/plain": [
       "array([  nan, 2014., 2010., 2020., 2017., 2013., 2012., 2016., 2019.,\n",
       "       2011., 1992., 2018., 2004., 2015., 2001., 2006., 1968., 2003.,\n",
       "       2008., 2007., 2005., 1966., 2009., 1998., 2002., 1999., 2021.,\n",
       "       1997., 1976., 1969., 1995., 1978., 1954., 1979., 1970., 1974.,\n",
       "       1996., 1987., 2000., 1955., 1960., 1991., 1972., 1988., 1994.,\n",
       "       1929., 1984., 1986., 1989., 1973., 1946., 1933., 1958., 1937.,\n",
       "       1985., 1957., 1953., 1942., 1963., 1977., 1993., 1903., 1990.,\n",
       "       1965., 1982., 1948., 1983., 1936., 1932., 1951., 1931., 1980.,\n",
       "       1967., 1971., 1947., 1981., 1926., 1962., 1975., 1964., 1934.,\n",
       "       1952., 1940., 1959., 1950., 1930., 1956., 1922., 1928., 2022.,\n",
       "       1901., 1941., 1924., 1927., 1939., 1923., 1949., 1961., 1935.,\n",
       "       1918., 1900., 1938., 1913., 1916., 1943., 1925., 1921., 1915.,\n",
       "       1945., 1902., 1905., 1920., 1944., 1910., 1909.])"
      ]
     },
     "execution_count": 31,
     "metadata": {},
     "output_type": "execute_result"
    }
   ],
   "source": [
    "# Looking at year to see how it looks\n",
    "cars[\"year\"].unique()"
   ]
  },
  {
   "cell_type": "markdown",
   "metadata": {},
   "source": [
    "Looking at the \"year\" feature, it seems better to convert year to a categorical feature rather than a numerical feature."
   ]
  },
  {
   "cell_type": "markdown",
   "metadata": {},
   "source": [
    "#### Condition"
   ]
  },
  {
   "cell_type": "code",
   "execution_count": 33,
   "metadata": {},
   "outputs": [
    {
     "data": {
      "text/plain": [
       "array([nan, 'good', 'excellent', 'fair', 'like new', 'new', 'salvage'],\n",
       "      dtype=object)"
      ]
     },
     "execution_count": 33,
     "metadata": {},
     "output_type": "execute_result"
    }
   ],
   "source": [
    "# Lets look at condition\n",
    "cars[\"condition\"].unique()"
   ]
  },
  {
   "cell_type": "code",
   "execution_count": 417,
   "metadata": {},
   "outputs": [
    {
     "data": {
      "text/plain": [
       "Text(0.5, 1.0, 'Counts of each unique value in condition')"
      ]
     },
     "execution_count": 417,
     "metadata": {},
     "output_type": "execute_result"
    },
    {
     "data": {
      "image/png": "[encoded data removed]",
      "text/plain": [
       "<Figure size 640x480 with 1 Axes>"
      ]
     },
     "metadata": {},
     "output_type": "display_data"
    }
   ],
   "source": [
    "# This seems like a feature to use ordinal scaling for, but lets see the distribution\n",
    "sns.histplot( cars[\"condition\"] )\n",
    "plt.title( \"Counts of each unique value in condition\" )"
   ]
  },
  {
   "cell_type": "markdown",
   "metadata": {},
   "source": [
    "It seems like condition is fairly ordinal, so we can set it to this scale order:\n",
    "\n",
    "1) Salvage\n",
    "2) Fair\n",
    "3) Good\n",
    "4) Excellent\n",
    "5) Like New\n",
    "6) New\n",
    "\n",
    "I'm assuming having the car as new is the best possible condition possible"
   ]
  },
  {
   "cell_type": "markdown",
   "metadata": {},
   "source": [
    "#### Cylinders"
   ]
  },
  {
   "cell_type": "code",
   "execution_count": 35,
   "metadata": {},
   "outputs": [
    {
     "data": {
      "text/plain": [
       "array([nan, '8 cylinders', '6 cylinders', '4 cylinders', '5 cylinders',\n",
       "       'other', '3 cylinders', '10 cylinders', '12 cylinders'],\n",
       "      dtype=object)"
      ]
     },
     "execution_count": 35,
     "metadata": {},
     "output_type": "execute_result"
    }
   ],
   "source": [
    "# Looking at cylinders to see if it can be converted to numerical\n",
    "cars[\"cylinders\"].unique()"
   ]
  },
  {
   "cell_type": "markdown",
   "metadata": {},
   "source": [
    "Though \"Cylinders\" can be converted to numerical numbers, it's better to leave it as categorical to save the \"other\" datapoint. In addition, the amount of unique values is pretty low to convert it to numerical"
   ]
  },
  {
   "cell_type": "markdown",
   "metadata": {},
   "source": [
    "#### Title Status"
   ]
  },
  {
   "cell_type": "code",
   "execution_count": 191,
   "metadata": {},
   "outputs": [
    {
     "name": "stdout",
     "output_type": "stream",
     "text": [
      "[nan 'clean' 'rebuilt' 'lien' 'salvage' 'missing' 'parts only']\n",
      "title_status\n",
      "clean           405117\n",
      "rebuilt           7219\n",
      "salvage           3868\n",
      "lien              1422\n",
      "missing            814\n",
      "parts only         198\n",
      "Name: count, dtype: int64\n"
     ]
    }
   ],
   "source": [
    "# Lastly, looking at title_status\n",
    "print( cars[\"title_status\"].unique() )\n",
    "print( cars[[\"title_status\"]].value_counts() )"
   ]
  },
  {
   "cell_type": "markdown",
   "metadata": {},
   "source": [
    "We don't really want to analyze used cars that are missing, just parts, or salvage, so it's probably better to just remove those two unique values for title_status"
   ]
  },
  {
   "cell_type": "markdown",
   "metadata": {},
   "source": [
    "### Initial Findings of data\n",
    "\n",
    "* It seems like the dataset is missing a lot of data, with specific features such as **cylinders** and **condition** missing in more than 100000 rows. When we remove all rows containing NaN, we go from 426880 rows to a measly 34848 rows, which is less than 10% of the original data. We can slightly counteract this by removing features to reduce the number of rows removed. Full list below:\n",
    "    * **VIN**: Too specific and missing too many values.\n",
    "    * **id**: Simply an identification number, nothing to gain\n",
    "    * **model**: Too many unique values and missing values. In addition, manufacturer can represent model pretty well\n",
    "    * **region**: We want general trends rather than geographical trends\n",
    "    * **state**: same as above for region\n",
    "    * **title_status(missing/salvage parts)**: We want to just deal with used cars\n",
    "    * **size**: missing the most, with it being NaN in 75% of the data. In addition it can be represented with type pretty well.\n",
    "\n",
    "* Most of the features are categorical with only **odometer** being a numerical feature. This would entail having to use one-hot encoding to transform the categorical features into compatible features for regression models. A problem is that this bloats the data extremely, so prior feature pruning might be required to reduce the complexity of the dataset.\n",
    "    * An exception is **condition**, which is an ordinal feature rather than a categorical one. The scale was explained in its own section\n",
    "    * For **Year**, it is considered more as a categorical feature rather than a numerical feature, so it will have to be converted.\n",
    "\n",
    "* The target feature, **price**, has some outliers. There are only a few above 200000, which can be removed. In addition, used cars with a sale price of $0 doesn't really make sense, so we can remove those as well.\n",
    "\n",
    "* Additionally, the feature **odometer** also has a few outliers that should be pruned as well"
   ]
  },
  {
   "cell_type": "markdown",
   "metadata": {},
   "source": [
    "## Data Preparation\n",
    "\n",
    "After our initial exploration and fine tuning of the business understanding, it is time to construct our final dataset prior to modeling.  Here, we want to make sure to handle any integrity issues and cleaning, the engineering of new features, any transformations that we believe should happen (scaling, logarithms, normalization, etc.), and general preparation for modeling with `sklearn`. "
   ]
  },
  {
   "cell_type": "code",
   "execution_count": 261,
   "metadata": {},
   "outputs": [
    {
     "name": "stdout",
     "output_type": "stream",
     "text": [
      "<class 'pandas.core.frame.DataFrame'>\n",
      "RangeIndex: 426880 entries, 0 to 426879\n",
      "Data columns (total 12 columns):\n",
      " #   Column        Non-Null Count   Dtype  \n",
      "---  ------        --------------   -----  \n",
      " 0   price         426880 non-null  int64  \n",
      " 1   year          425675 non-null  float64\n",
      " 2   manufacturer  409234 non-null  object \n",
      " 3   condition     252776 non-null  object \n",
      " 4   cylinders     249202 non-null  object \n",
      " 5   fuel          423867 non-null  object \n",
      " 6   odometer      422480 non-null  float64\n",
      " 7   title_status  418638 non-null  object \n",
      " 8   transmission  424324 non-null  object \n",
      " 9   drive         296313 non-null  object \n",
      " 10  type          334022 non-null  object \n",
      " 11  paint_color   296677 non-null  object \n",
      "dtypes: float64(2), int64(1), object(9)\n",
      "memory usage: 39.1+ MB\n"
     ]
    },
    {
     "data": {
      "text/plain": [
       "price            15655\n",
       "year               114\n",
       "manufacturer        42\n",
       "condition            6\n",
       "cylinders            8\n",
       "fuel                 5\n",
       "odometer        104870\n",
       "title_status         6\n",
       "transmission         3\n",
       "drive                3\n",
       "type                13\n",
       "paint_color         12\n",
       "dtype: int64"
      ]
     },
     "execution_count": 261,
     "metadata": {},
     "output_type": "execute_result"
    }
   ],
   "source": [
    "# First remove the unnecessary features from the data\n",
    "filteredColumns = cars.drop( [\"id\",\"VIN\",\"model\",\"size\",\"region\",\"state\",\"size\"], axis = 1 )\n",
    "filteredColumns.info()\n",
    "filteredColumns.nunique()"
   ]
  },
  {
   "cell_type": "code",
   "execution_count": 210,
   "metadata": {},
   "outputs": [
    {
     "data": {
      "text/plain": [
       "array([nan, 'clean', 'rebuilt', 'lien'], dtype=object)"
      ]
     },
     "execution_count": 210,
     "metadata": {},
     "output_type": "execute_result"
    }
   ],
   "source": [
    "# Filter out the \"parts only\", \"missing\", \"salvage\" from title_status\n",
    "removedValues = [\"parts only\", \"missing\", \"salvage\"]\n",
    "filteredColumns = filteredColumns.query( \"title_status not in @removedValues\" )\n",
    "filteredColumns[\"title_status\"].unique()"
   ]
  },
  {
   "cell_type": "code",
   "execution_count": 212,
   "metadata": {},
   "outputs": [
    {
     "data": {
      "text/plain": [
       "363321"
      ]
     },
     "execution_count": 212,
     "metadata": {},
     "output_type": "execute_result"
    }
   ],
   "source": [
    "# Then we filter out the outliers\n",
    "noOutliers = filteredColumns.query( \"odometer < 200000 and price > 0 and price < 150000\" )\n",
    "len( noOutliers )"
   ]
  },
  {
   "cell_type": "code",
   "execution_count": 214,
   "metadata": {},
   "outputs": [
    {
     "data": {
      "text/plain": [
       "102029"
      ]
     },
     "execution_count": 214,
     "metadata": {},
     "output_type": "execute_result"
    }
   ],
   "source": [
    "# Finally, we remove any NaN from the data\n",
    "cleanCars = pd.DataFrame( noOutliers.dropna() )\n",
    "len( cleanCars ) # We keep around 25% of the original filtered data, which is pretty bad, but not as bad as before"
   ]
  },
  {
   "cell_type": "code",
   "execution_count": 215,
   "metadata": {},
   "outputs": [
    {
     "name": "stdout",
     "output_type": "stream",
     "text": [
      "<class 'pandas.core.frame.DataFrame'>\n",
      "Index: 102029 entries, 31 to 426878\n",
      "Data columns (total 12 columns):\n",
      " #   Column        Non-Null Count   Dtype   \n",
      "---  ------        --------------   -----   \n",
      " 0   price         102029 non-null  int64   \n",
      " 1   year          102029 non-null  category\n",
      " 2   manufacturer  102029 non-null  object  \n",
      " 3   condition     102029 non-null  object  \n",
      " 4   cylinders     102029 non-null  object  \n",
      " 5   fuel          102029 non-null  object  \n",
      " 6   odometer      102029 non-null  float64 \n",
      " 7   title_status  102029 non-null  object  \n",
      " 8   transmission  102029 non-null  object  \n",
      " 9   drive         102029 non-null  object  \n",
      " 10  type          102029 non-null  object  \n",
      " 11  paint_color   102029 non-null  object  \n",
      "dtypes: category(1), float64(1), int64(1), object(9)\n",
      "memory usage: 9.4+ MB\n"
     ]
    }
   ],
   "source": [
    "# With the data, we need to convert year into a categorical object\n",
    "cleanCars[\"year\"] = cleanCars[\"year\"].astype( 'int64' ).astype( 'category' )\n",
    "cleanCars.info()"
   ]
  },
  {
   "cell_type": "markdown",
   "metadata": {},
   "source": [
    "## Modeling\n",
    "\n",
    "With your (almost?) final dataset in hand, it is now time to build some models.  Here, you should build a number of different regression models with the price as the target.  In building your models, you should explore different parameters and be sure to cross-validate your findings."
   ]
  },
  {
   "cell_type": "code",
   "execution_count": 223,
   "metadata": {},
   "outputs": [],
   "source": [
    "# Import all the sklearn libraries we need for modeling\n",
    "from sklearn.pipeline import Pipeline\n",
    "from sklearn.model_selection import GridSearchCV, train_test_split\n",
    "from sklearn.linear_model import LinearRegression, Ridge, Lasso\n",
    "from sklearn.preprocessing import PolynomialFeatures, StandardScaler, OneHotEncoder, OrdinalEncoder\n",
    "from sklearn.compose import make_column_transformer, make_column_selector, ColumnTransformer\n",
    "from sklearn.inspection import permutation_importance\n",
    "from sklearn.feature_selection import SequentialFeatureSelector\n",
    "from sklearn.metrics import mean_squared_error"
   ]
  },
  {
   "cell_type": "markdown",
   "metadata": {},
   "source": [
    "### Preparations for Model Training"
   ]
  },
  {
   "cell_type": "markdown",
   "metadata": {},
   "source": [
    "We first get out training and testing set from the data"
   ]
  },
  {
   "cell_type": "code",
   "execution_count": 217,
   "metadata": {},
   "outputs": [
    {
     "name": "stdout",
     "output_type": "stream",
     "text": [
      "Len of Training Data: 76521\n",
      "Len of Test Data: 25508\n"
     ]
    }
   ],
   "source": [
    "# We split the data into training and testing data\n",
    "X, y = cleanCars.drop( \"price\", axis = 1 ), cleanCars[\"price\"]\n",
    "X_train, X_test, y_train, y_test = train_test_split( X, y )\n",
    "print( \"Len of Training Data:\", len( X_train ) )\n",
    "print( \"Len of Test Data:\", len( X_test ) )"
   ]
  },
  {
   "cell_type": "markdown",
   "metadata": {},
   "source": [
    "To reduce repetitive code, we'll create the preprocess transformation pipelines here since the process will remain the same throughout models"
   ]
  },
  {
   "cell_type": "code",
   "execution_count": 240,
   "metadata": {},
   "outputs": [],
   "source": [
    "# Numeric transformer for odometer (poly + scaler)\n",
    "numeric_transformer = Pipeline([\n",
    "    ( \"poly\", PolynomialFeatures( include_bias = False ) ),\n",
    "    ( \"scaler\", StandardScaler())\n",
    "])\n",
    "\n",
    "# OHE for most columns\n",
    "ohe = OneHotEncoder( handle_unknown = \"ignore\" )\n",
    "\n",
    "# Ordinal transformer for condition\n",
    "oe = OrdinalEncoder( categories = [[\"salvage\",\"fair\",\"good\",\"excellent\",\"like new\",\"new\"]] )\n",
    "\n",
    "# Put everything together into a preprocessor object\n",
    "preprocessor = ColumnTransformer([\n",
    "    ( \"ordinal\", oe, [\"condition\"] ),\n",
    "    ( \"numeric\", numeric_transformer, [\"odometer\"] ),\n",
    "    ( \"ohe\", ohe, make_column_selector( \"^(?!condition$)\", dtype_include=[\"object\", \"category\"] ) )\n",
    "])"
   ]
  },
  {
   "cell_type": "code",
   "execution_count": 422,
   "metadata": {},
   "outputs": [
    {
     "data": {
      "text/plain": [
       "matrix([[ 2.        ,  1.25300368,  1.36587457, ...,  0.        ,\n",
       "          0.        ,  0.        ],\n",
       "        [ 2.        ,  0.15020289, -0.11690417, ...,  0.        ,\n",
       "          0.        ,  0.        ],\n",
       "        [ 3.        ,  0.94924365,  0.89231764, ...,  0.        ,\n",
       "          0.        ,  0.        ],\n",
       "        ...,\n",
       "        [ 2.        ,  1.06315366,  1.06409809, ...,  0.        ,\n",
       "          1.        ,  0.        ],\n",
       "        [ 3.        , -0.66899994, -0.79584158, ...,  0.        ,\n",
       "          1.        ,  0.        ],\n",
       "        [ 3.        , -0.14286858, -0.40117414, ...,  0.        ,\n",
       "          1.        ,  0.        ]])"
      ]
     },
     "execution_count": 422,
     "metadata": {},
     "output_type": "execute_result"
    }
   ],
   "source": [
    "# Test out the preprocessor and see if the results are correct:\n",
    "# First val should be ordinal, second and third should be scaled numerical, and everything else should be 0 or 1\n",
    "preprocessor.fit_transform( X_train ).todense()"
   ]
  },
  {
   "cell_type": "markdown",
   "metadata": {},
   "source": [
    "### Linear Regression Model\n",
    "We try to create a linear regression model with all the data first."
   ]
  },
  {
   "cell_type": "code",
   "execution_count": 430,
   "metadata": {
    "scrolled": true
   },
   "outputs": [
    {
     "name": "stdout",
     "output_type": "stream",
     "text": [
      "\n"
     ]
    }
   ],
   "source": [
    "# We do a simple preprocess + linear regression pipeline\n",
    "linregPipe = Pipeline([\n",
    "    ( \"preprocess\", preprocessor ),\n",
    "    ( \"linreg\", LinearRegression() )\n",
    "])\n",
    "\n",
    "# We do a grid search for the degree for poly\n",
    "linRegGrid = GridSearchCV( estimator = linregPipe, param_grid = {\"preprocess__numeric__poly__degree\": [1,2,3,4,5,6,7,8,9,10]}, scoring = \"neg_mean_squared_error\", n_jobs = -1 )\n",
    "linRegGrid.fit( X_train, y_train )\n",
    "\n",
    "# The printed model pipeline doesn't render well on github, so printing here to avoid that\n",
    "print()"
   ]
  },
  {
   "cell_type": "code",
   "execution_count": 256,
   "metadata": {},
   "outputs": [
    {
     "name": "stdout",
     "output_type": "stream",
     "text": [
      "{'preprocess__numeric__poly__degree': 7}\n"
     ]
    }
   ],
   "source": [
    "# See what the best degree given was\n",
    "print( linRegGrid.best_params_ )"
   ]
  },
  {
   "cell_type": "markdown",
   "metadata": {},
   "source": [
    "Seems like the best degree was 7, which is pretty high"
   ]
  },
  {
   "cell_type": "markdown",
   "metadata": {},
   "source": [
    "Now we test the model and see how well it performs on the test set and training set. For all the models, I will be comparing their error using mean squared error, as it is a good comparison for models. In addition, I will use root mean squared error to get a more grounded error to explain how much money was the general prediction off by."
   ]
  },
  {
   "cell_type": "code",
   "execution_count": 434,
   "metadata": {},
   "outputs": [
    {
     "name": "stdout",
     "output_type": "stream",
     "text": [
      "Train MSE: 52259097.62602087\n",
      "Test MSE : 51722265.320754744\n",
      "Test RMSE: 7191.819333155884\n"
     ]
    }
   ],
   "source": [
    "# See how the model performed\n",
    "bestLinReg = linRegGrid.best_estimator_\n",
    "linreg_train_mse = mean_squared_error( bestLinReg.predict( X_train ), y_train )\n",
    "linreg_test_mse = mean_squared_error( bestLinReg.predict( X_test ), y_test )\n",
    "print( \"Train MSE:\", linreg_train_mse )\n",
    "print( \"Test MSE :\", linreg_test_mse )\n",
    "\n",
    "# We see RMSE as well so that we get a better view on how inaccurate the model is\n",
    "print( \"Test RMSE:\", np.sqrt( linreg_test_mse ) )"
   ]
  },
  {
   "cell_type": "markdown",
   "metadata": {},
   "source": [
    "From the results, we see that the error is decent, with model's predictions being different by around $7191"
   ]
  },
  {
   "cell_type": "markdown",
   "metadata": {},
   "source": [
    "### Ridge Model\n",
    "Now we try to use regularization to see if the model improves"
   ]
  },
  {
   "cell_type": "code",
   "execution_count": 431,
   "metadata": {},
   "outputs": [
    {
     "name": "stdout",
     "output_type": "stream",
     "text": [
      "\n"
     ]
    }
   ],
   "source": [
    "# This time, we use Ridge instead of LinearRegression to see if regularization will help.\n",
    "ridgePipe = Pipeline([\n",
    "    ( \"preprocess\", preprocessor ),\n",
    "    ( \"ridge\", Ridge() )\n",
    "])\n",
    "\n",
    "# We do a grid search for the degree for poly as well as the alpha for the ridge model\n",
    "ridgeGrid = GridSearchCV( estimator = ridgePipe, param_grid = {\"preprocess__numeric__poly__degree\": [7,8,9,10], \"ridge__alpha\": 10**np.linspace(-5,4,15)}, scoring = \"neg_mean_squared_error\",n_jobs  = -1 )\n",
    "ridgeGrid.fit( X_train, y_train )\n",
    "\n",
    "# The printed model pipeline doesn't render well on github, so printing here to avoid that\n",
    "print()"
   ]
  },
  {
   "cell_type": "code",
   "execution_count": 267,
   "metadata": {},
   "outputs": [
    {
     "data": {
      "text/plain": [
       "{'preprocess__numeric__poly__degree': 9, 'ridge__alpha': 0.0037275937203149418}"
      ]
     },
     "execution_count": 267,
     "metadata": {},
     "output_type": "execute_result"
    }
   ],
   "source": [
    "# What were the best params?\n",
    "ridgeGrid.best_params_"
   ]
  },
  {
   "cell_type": "markdown",
   "metadata": {},
   "source": [
    "Interestingly, the alpha is very small, meaning there isn't much impact in constraining the features."
   ]
  },
  {
   "cell_type": "markdown",
   "metadata": {},
   "source": [
    "Now we look through the MSE of the model to see how they compare to the other model."
   ]
  },
  {
   "cell_type": "code",
   "execution_count": 435,
   "metadata": {
    "scrolled": true
   },
   "outputs": [
    {
     "name": "stdout",
     "output_type": "stream",
     "text": [
      "Train MSE: 52298964.35027943\n",
      "Test MSE : 51801353.10853676\n"
     ]
    }
   ],
   "source": [
    "# See how the model performed\n",
    "bestRidge = ridgeGrid.best_estimator_\n",
    "ridge_train_mse = mean_squared_error( bestRidge.predict( X_train ), y_train )\n",
    "ridge_test_mse = mean_squared_error( bestRidge.predict( X_test ), y_test )\n",
    "print( \"Train MSE:\", ridge_train_mse )\n",
    "print( \"Test MSE :\", ridge_test_mse )"
   ]
  },
  {
   "cell_type": "markdown",
   "metadata": {},
   "source": [
    "As we can see, the Ridge model did around the same as the normal LinReg model. With GridSearch, the best model was the one with very little to none constraining factor, which is very similar to the linear regression model."
   ]
  },
  {
   "cell_type": "markdown",
   "metadata": {},
   "source": [
    "### Sequential Feature Selection + Linear Regression Model\n",
    "With our data having a large amount of features due to OHE, there is a risk of overfitting. So we can try using sequential feature selection to cut down on the # of features used and see if it generates a better model."
   ]
  },
  {
   "cell_type": "code",
   "execution_count": 432,
   "metadata": {},
   "outputs": [
    {
     "name": "stdout",
     "output_type": "stream",
     "text": [
      "\n"
     ]
    }
   ],
   "source": [
    "# We create the pipe, which does OHE, poly for odometer, then feature selection before linear regression\n",
    "featureSelectPipe = Pipeline([\n",
    "    ( \"preprocess\", preprocessor ),\n",
    "    ( \"featureSelection\", SequentialFeatureSelector( LinearRegression(), scoring = \"neg_mean_squared_error\", n_features_to_select = 20, n_jobs = -1 ) ),\n",
    "    ( \"linreg\", LinearRegression() )\n",
    "])\n",
    "\n",
    "# We do a grid search for the # of features to select\n",
    "featureSelectPipe.fit( X_train, y_train )\n",
    "\n",
    "# The printed model pipeline doesn't render well on github, so printing here to avoid that\n",
    "print()"
   ]
  },
  {
   "cell_type": "code",
   "execution_count": 436,
   "metadata": {},
   "outputs": [
    {
     "name": "stdout",
     "output_type": "stream",
     "text": [
      "Train MSE: 62012620.1492042\n",
      "Test MSE : 61380516.44288211\n"
     ]
    }
   ],
   "source": [
    "# See how the model performed\n",
    "feature_train_mse = mean_squared_error( featureSelectPipe.predict( X_train ), y_train )\n",
    "feature_test_mse = mean_squared_error( featureSelectPipe.predict( X_test ), y_test )\n",
    "print( \"Train MSE:\", feature_train_mse )\n",
    "print( \"Test MSE :\", feature_test_mse )"
   ]
  },
  {
   "cell_type": "markdown",
   "metadata": {},
   "source": [
    "It seems like SequentialFeatureSelector takes the longest computational time due to the large amount of features in the processed data. As such, it's not viable to find a large enough subspace to find the most accurate model. However, we can see that the error is not very far from both the LinReg and Ridge models. If we were to continue expanding the number of features to select, it would be likely for the erro to continue to drop. Thus, analyzing the features it selected will be useful."
   ]
  },
  {
   "cell_type": "markdown",
   "metadata": {},
   "source": [
    "### Lasso Model\n",
    "Lastly, we try out the Lasso Model."
   ]
  },
  {
   "cell_type": "code",
   "execution_count": 438,
   "metadata": {},
   "outputs": [
    {
     "name": "stdout",
     "output_type": "stream",
     "text": [
      "\n"
     ]
    }
   ],
   "source": [
    "# Prevent convergence warnings from Lasso\n",
    "import warnings\n",
    "warnings.filterwarnings(\"ignore\")\n",
    "\n",
    "# We create the pipe, which does OHE and poly for odometer\n",
    "lassoPipe = Pipeline([\n",
    "    ( \"preprocess\", preprocessor ),\n",
    "    ( \"lasso\", Lasso() )\n",
    "])\n",
    "\n",
    "# We do a grid search for the degree for poly as well as the alpha for the ridge model\n",
    "lassoGrid = GridSearchCV( estimator = lassoPipe, param_grid = {\"preprocess__numeric__poly__degree\":[7,8,9,10], \"lasso__alpha\": 10**np.linspace(-5,4,10)}, scoring = \"neg_mean_squared_error\", n_jobs = -1 )\n",
    "lassoGrid.fit( X_train, y_train )\n",
    "\n",
    "# The printed model pipeline doesn't render well on github, so printing here to avoid that\n",
    "print()"
   ]
  },
  {
   "cell_type": "code",
   "execution_count": 275,
   "metadata": {},
   "outputs": [
    {
     "data": {
      "text/plain": [
       "{'lasso__alpha': 0.1, 'preprocess__numeric__poly__degree': 7}"
      ]
     },
     "execution_count": 275,
     "metadata": {},
     "output_type": "execute_result"
    }
   ],
   "source": [
    "lassoGrid.best_params_"
   ]
  },
  {
   "cell_type": "code",
   "execution_count": 437,
   "metadata": {},
   "outputs": [
    {
     "name": "stdout",
     "output_type": "stream",
     "text": [
      "Train MSE: 52497735.060361974\n",
      "Test MSE : 51948546.7755336\n"
     ]
    }
   ],
   "source": [
    "# See how the model performed\n",
    "bestLasso = lassoGrid.best_estimator_\n",
    "lasso_train_mse = mean_squared_error( bestLasso.predict( X_train ), y_train )\n",
    "lasso_test_mse = mean_squared_error( bestLasso.predict( X_test ), y_test )\n",
    "print( \"Train MSE:\", lasso_train_mse )\n",
    "print( \"Test MSE :\", lasso_test_mse )"
   ]
  },
  {
   "cell_type": "markdown",
   "metadata": {},
   "source": [
    "With Lasso, we see that the MSE is similar to what LinReg and Ridge have as well. Since they all perform similarly, it's worth analyzing all of them to see which variables had the highest coefficients for each one."
   ]
  },
  {
   "cell_type": "markdown",
   "metadata": {},
   "source": [
    "### Results\n",
    "After training LinReg, Ridge, SFS+LinReg, and Lasso models to predict sales price, we found that they all perform pretty similarly, with the LinReg model barely being the best performing model."
   ]
  },
  {
   "cell_type": "markdown",
   "metadata": {},
   "source": [
    "## Evaluation\n",
    "\n",
    "With some modeling accomplished, we aim to reflect on what we identify as a high quality model and what we are able to learn from this.  We should review our business objective and explore how well we can provide meaningful insight on drivers of used car prices.  Your goal now is to distill your findings and determine whether the earlier phases need revisitation and adjustment or if you have information of value to bring back to your client."
   ]
  },
  {
   "cell_type": "markdown",
   "metadata": {},
   "source": [
    "### Model Assessment"
   ]
  },
  {
   "cell_type": "markdown",
   "metadata": {},
   "source": [
    "With all of our different linear models, lets compare them to see which one was the best model found utilizing their test RMSE. We utilize RMSE because we want to use this visual in our report and RMSE portrays an easier to understand error than MSE for the layman. In addition, RMSE is just the square root of MSE, so there's no difference between the models other than the scaling:"
   ]
  },
  {
   "cell_type": "code",
   "execution_count": 429,
   "metadata": {},
   "outputs": [
    {
     "data": {
      "image/png": "[encoded data removed]",
      "text/plain": [
       "<Figure size 640x480 with 1 Axes>"
      ]
     },
     "metadata": {},
     "output_type": "display_data"
    }
   ],
   "source": [
    "import matplotlib.pyplot as plt\n",
    "\n",
    "# Grab all of the test errors of the models and visualize them\n",
    "# We use RMSE to see the difference in price error\n",
    "mse_list = {\"Sequential\\nFeature\\nSelection\": np.sqrt( feature_test_mse ),\n",
    "            \"Lasso\": np.sqrt( lasso_test_mse ),\n",
    "            \"Ridge\": np.sqrt( ridge_test_mse ),\n",
    "            \"Linear Regression\": np.sqrt( linreg_test_mse )\n",
    "             }\n",
    "\n",
    "plt.ticklabel_format(style = 'plain')\n",
    "plt.bar( mse_list.keys(), mse_list.values() )\n",
    "plt.title( \"Test RMSE Error of 4 Regression Models\" )\n",
    "plt.xlabel( \"Regression Model\" )\n",
    "plt.ylabel( \"RMSE ($)\" )\n",
    "plt.savefig( \"images/testRMSE.png\", bbox_inches='tight' )"
   ]
  },
  {
   "cell_type": "markdown",
   "metadata": {},
   "source": [
    "As we can see, the error of the models are all pretty around the same barring SFS, which is a bit higher than the rest. Though this is mostly due to the extremely large computational time to have a decent subspace of the dataset. "
   ]
  },
  {
   "cell_type": "markdown",
   "metadata": {},
   "source": [
    "### Feature Analysis\n",
    "These models all have pretty similar performance at predicting used car prices. Thus, instead of discarding all but the best model, it's better to look through each model to confirm which features they valued the most. To do this, we'll first use permutation_importance to see which features had the most impact in the models. Then, once we identified the most impactful features, we'll examine the coefficients in the linear regression model to see how exactly the features impact sales price."
   ]
  },
  {
   "cell_type": "code",
   "execution_count": 331,
   "metadata": {},
   "outputs": [
    {
     "name": "stdout",
     "output_type": "stream",
     "text": [
      "year                0.452 +/- 0.005\n",
      "odometer            0.125 +/- 0.001\n",
      "cylinders           0.119 +/- 0.002\n",
      "fuel                0.084 +/- 0.002\n",
      "type                0.050 +/- 0.001\n",
      "manufacturer        0.048 +/- 0.001\n",
      "drive               0.019 +/- 0.001\n",
      "title_status        0.006 +/- 0.000\n",
      "transmission        0.004 +/- 0.000\n",
      "condition           0.002 +/- 0.000\n",
      "paint_color         0.001 +/- 0.000\n"
     ]
    }
   ],
   "source": [
    "# Find the importance means for the linear regression model\n",
    "r = permutation_importance( bestLinReg, X_test, y_test, n_repeats = 30 )\n",
    "\n",
    "# We want to record the importance means\n",
    "importance_means = {}\n",
    "for i in r.importances_mean.argsort()[::-1]:\n",
    "    print(f\"{X_test.columns[i]:<20}\"\n",
    "           f\"{r.importances_mean[i]:.3f}\"\n",
    "           f\" +/- {r.importances_std[i]:.3f}\")\n",
    "    importance_means[X_test.columns[i]] = r.importances_mean[i]"
   ]
  },
  {
   "cell_type": "code",
   "execution_count": 332,
   "metadata": {},
   "outputs": [
    {
     "name": "stdout",
     "output_type": "stream",
     "text": [
      "year                0.455 +/- 0.005\n",
      "odometer            0.124 +/- 0.002\n",
      "cylinders           0.119 +/- 0.002\n",
      "fuel                0.084 +/- 0.001\n",
      "type                0.050 +/- 0.001\n",
      "manufacturer        0.048 +/- 0.001\n",
      "drive               0.019 +/- 0.001\n",
      "title_status        0.005 +/- 0.000\n",
      "transmission        0.004 +/- 0.000\n",
      "condition           0.002 +/- 0.000\n",
      "paint_color         0.001 +/- 0.000\n"
     ]
    }
   ],
   "source": [
    "# Find the importance means for the Ridge model\n",
    "r = permutation_importance( bestRidge, X_test, y_test, n_repeats = 30 )\n",
    "for i in r.importances_mean.argsort()[::-1]:\n",
    "    print(f\"{X_test.columns[i]:<20}\"\n",
    "           f\"{r.importances_mean[i]:.3f}\"\n",
    "           f\" +/- {r.importances_std[i]:.3f}\")\n",
    "    importance_means[X_test.columns[i]] += r.importances_mean[i]"
   ]
  },
  {
   "cell_type": "code",
   "execution_count": 333,
   "metadata": {},
   "outputs": [
    {
     "name": "stdout",
     "output_type": "stream",
     "text": [
      "year                0.385 +/- 0.004\n",
      "cylinders           0.149 +/- 0.002\n",
      "odometer            0.134 +/- 0.002\n",
      "fuel                0.097 +/- 0.002\n",
      "drive               0.047 +/- 0.001\n",
      "manufacturer        0.022 +/- 0.001\n",
      "transmission        0.008 +/- 0.000\n",
      "paint_color         0.000 +/- 0.000\n",
      "type                0.000 +/- 0.000\n",
      "title_status        0.000 +/- 0.000\n",
      "condition           0.000 +/- 0.000\n"
     ]
    }
   ],
   "source": [
    "# Find the importance means for the Sequential Feature Selection + LinReg model\n",
    "r = permutation_importance( featureSelectPipe, X_test, y_test, n_repeats = 30 )\n",
    "for i in r.importances_mean.argsort()[::-1]:\n",
    "    print(f\"{X_test.columns[i]:<20}\"\n",
    "           f\"{r.importances_mean[i]:.3f}\"\n",
    "           f\" +/- {r.importances_std[i]:.3f}\")\n",
    "    importance_means[X_test.columns[i]] += r.importances_mean[i]"
   ]
  },
  {
   "cell_type": "code",
   "execution_count": 334,
   "metadata": {},
   "outputs": [
    {
     "name": "stdout",
     "output_type": "stream",
     "text": [
      "year                0.459 +/- 0.004\n",
      "cylinders           0.119 +/- 0.002\n",
      "odometer            0.117 +/- 0.002\n",
      "fuel                0.084 +/- 0.001\n",
      "type                0.050 +/- 0.001\n",
      "manufacturer        0.048 +/- 0.001\n",
      "drive               0.019 +/- 0.001\n",
      "title_status        0.005 +/- 0.000\n",
      "transmission        0.004 +/- 0.000\n",
      "condition           0.002 +/- 0.000\n",
      "paint_color         0.001 +/- 0.000\n"
     ]
    }
   ],
   "source": [
    "# Find the importance means for the Lasso model\n",
    "r = permutation_importance( bestLasso, X_test, y_test, n_repeats = 30 )\n",
    "for i in r.importances_mean.argsort()[::-1]:\n",
    "    print(f\"{X_test.columns[i]:<20}\"\n",
    "           f\"{r.importances_mean[i]:.3f}\"\n",
    "           f\" +/- {r.importances_std[i]:.3f}\")\n",
    "    importance_means[X_test.columns[i]] += r.importances_mean[i]"
   ]
  },
  {
   "cell_type": "markdown",
   "metadata": {},
   "source": [
    "From a brief look over, it seems like **year, cylinders, odometer, and fuel** were always the top 5 features with the highest impact on sales price."
   ]
  },
  {
   "cell_type": "code",
   "execution_count": 387,
   "metadata": {},
   "outputs": [
    {
     "data": {
      "image/png": "[encoded data removed]",
      "text/plain": [
       "<Figure size 640x480 with 1 Axes>"
      ]
     },
     "metadata": {},
     "output_type": "display_data"
    }
   ],
   "source": [
    "# Lets get the mean of the importance means and visualize how it looks\n",
    "means = {}\n",
    "for col in importance_means:\n",
    "    means[col] = importance_means[col] / 4\n",
    "means = dict(sorted(means.items(), key=lambda item: item[1], reverse = True))\n",
    "\n",
    "plt.bar( means.keys(), means.values() )\n",
    "plt.xticks( rotation = 90 )\n",
    "plt.title( \"Importance Means of features\" )\n",
    "plt.xlabel( \"Features\" )\n",
    "plt.ylabel( \"Importance Mean\")\n",
    "plt.savefig( \"images/importanceMeans.jpg\", bbox_inches='tight' )"
   ]
  },
  {
   "cell_type": "markdown",
   "metadata": {},
   "source": [
    "From the permutation checks, we see that **year** has a lot more importance than many of the other features. An issue with this is that year has the most unique values to be one-hot encoded, meaning it has a lot more impactful features than others with only a few unique values. However, this is a good general view on how impactful each feature is on the models. Cutting out year, we see that **odometer, cylinders, fuel, type, manufacturer, and drive** all have decent impact on the model.\n",
    "\n",
    "### Analyzing Coefficients\n",
    "\n",
    "To know more about these features and how they reflect in the model, we'll need to look more in-depth at the coefficients to see what had the lowest/highest impact on the model. For this step, we'll use the best model we found (Linear regression) since it is the most accurate. Positive coefficients indicate a positive correlation with sales price, and vice versa for negative coefficients. So we'll need to examine both the min and max coefficients to get a better picture."
   ]
  },
  {
   "cell_type": "code",
   "execution_count": 345,
   "metadata": {},
   "outputs": [
    {
     "name": "stdout",
     "output_type": "stream",
     "text": [
      "numeric__odometer^3            : 286768.495\n",
      "numeric__odometer^6            : 206060.765\n",
      "ohe__year_1913                 : 70237.453\n",
      "ohe__manufacturer_ferrari      : 63677.648\n",
      "ohe__manufacturer_aston-martin : 26235.100\n",
      "ohe__year_2021                 : 24916.524\n",
      "ohe__year_1900                 : 20409.260\n",
      "ohe__manufacturer_tesla        : 18630.755\n",
      "ohe__year_2020                 : 17239.170\n",
      "numeric__odometer              : 14367.894\n",
      "ohe__year_2019                 : 13417.270\n",
      "ohe__year_1934                 : 12485.619\n",
      "ohe__year_1928                 : 12295.930\n",
      "ohe__year_1958                 : 11859.464\n",
      "ohe__year_2018                 : 11497.807\n",
      "ohe__year_1932                 : 11415.198\n",
      "ohe__year_1957                 : 11302.938\n",
      "ohe__year_2017                 : 10218.902\n",
      "ohe__manufacturer_porsche      : 10193.234\n",
      "ohe__year_1937                 : 10017.194\n"
     ]
    }
   ],
   "source": [
    "# Get the coefficients of the linear regression model and sort them\n",
    "coefs = bestLinReg.named_steps[\"linreg\"].coef_\n",
    "colNames = bestLinReg.named_steps[\"preprocess\"].get_feature_names_out()\n",
    "\n",
    "coef_values = sorted( zip( coefs, colNames ), reverse = True )\n",
    "\n",
    "# We print the largest 20 coefficients\n",
    "for coef, col in coef_values[:20]:\n",
    "    print( f\"{col:<30} : {coef:.3f}\" )"
   ]
  },
  {
   "cell_type": "code",
   "execution_count": 346,
   "metadata": {},
   "outputs": [
    {
     "name": "stdout",
     "output_type": "stream",
     "text": [
      "ohe__year_1990                 : -8408.914\n",
      "ohe__year_1982                 : -8511.559\n",
      "ohe__year_1988                 : -8991.618\n",
      "ohe__cylinders_3 cylinders     : -9013.338\n",
      "ohe__year_1974                 : -9097.082\n",
      "ohe__year_1986                 : -9205.809\n",
      "ohe__year_1977                 : -9210.706\n",
      "ohe__manufacturer_fiat         : -9292.329\n",
      "ohe__year_1925                 : -9417.387\n",
      "ohe__year_1981                 : -9732.658\n",
      "ohe__year_1984                 : -9760.094\n",
      "ohe__year_1979                 : -9768.557\n",
      "ohe__year_1983                 : -9810.352\n",
      "ohe__year_1952                 : -9968.931\n",
      "ohe__year_1980                 : -10096.933\n",
      "ohe__year_1926                 : -11343.873\n",
      "numeric__odometer^5            : -63063.916\n",
      "numeric__odometer^7            : -85203.750\n",
      "numeric__odometer^2            : -122759.537\n",
      "numeric__odometer^4            : -239271.598\n"
     ]
    }
   ],
   "source": [
    "# We print the smallest 20 coefficients\n",
    "for coef, col in coef_values[-20:]:\n",
    "    print( f\"{col:<30} : {coef:.3f}\" )"
   ]
  },
  {
   "cell_type": "markdown",
   "metadata": {},
   "source": [
    "Interestingly, the odometer has both the highest and lowest coefficients for the linear regression model. Thus, they kind of cancel each out. But from the permutation check, there was definitely some impact. Judging by how the bottom 4 coefficients are for odometer, I would say that the higher the odometer, the lower the sales price"
   ]
  },
  {
   "cell_type": "markdown",
   "metadata": {},
   "source": [
    "Looking at year, we see that a lot have both minimum and maximum coefficients in the model. However, it seems like a lot of these years might not have enough data and thus might be overfitted. So lets look though the years:"
   ]
  },
  {
   "cell_type": "code",
   "execution_count": 363,
   "metadata": {},
   "outputs": [
    {
     "data": {
      "text/plain": [
       "1105"
      ]
     },
     "execution_count": 363,
     "metadata": {},
     "output_type": "execute_result"
    }
   ],
   "source": [
    "# It seems like the amount of data before 1960 is really minimal, which explains why the coefficients are so large.\n",
    "X_train[\"year\"].value_counts()[50:].sum()"
   ]
  },
  {
   "cell_type": "markdown",
   "metadata": {},
   "source": [
    "It might be worth it to filter out the year and odometer and view the coefficients again. However, setting aside that point, we can see that cars released in recent years do increase the sales price, which makes sense."
   ]
  },
  {
   "cell_type": "markdown",
   "metadata": {},
   "source": [
    "Besides those two, we can see that the more pricey car manufacturers such as ferrari and tesla have high correlation with sales price."
   ]
  },
  {
   "cell_type": "markdown",
   "metadata": {},
   "source": [
    "To see the coefficients for other features, we filter out any \"odometer\" or \"year\" features from the coefficients"
   ]
  },
  {
   "cell_type": "code",
   "execution_count": 368,
   "metadata": {},
   "outputs": [
    {
     "name": "stdout",
     "output_type": "stream",
     "text": [
      "ohe__manufacturer_ferrari      : 63677.648\n",
      "ohe__manufacturer_aston-martin : 26235.100\n",
      "ohe__manufacturer_tesla        : 18630.755\n",
      "ohe__manufacturer_porsche      : 10193.234\n",
      "ohe__fuel_diesel               : 9618.788\n",
      "ohe__cylinders_12 cylinders    : 8379.213\n",
      "ohe__manufacturer_land rover   : 7277.873\n",
      "ohe__cylinders_8 cylinders     : 5373.896\n",
      "ohe__type_convertible          : 2918.218\n",
      "ohe__type_offroad              : 2886.053\n",
      "ohe__type_truck                : 2555.034\n",
      "ohe__type_other                : 2343.045\n",
      "ohe__type_coupe                : 2093.246\n",
      "ohe__manufacturer_rover        : 1721.590\n",
      "ohe__title_status_lien         : 1452.543\n",
      "ohe__drive_4wd                 : 1356.320\n",
      "ohe__title_status_clean        : 1209.438\n",
      "ohe__type_pickup               : 1200.617\n",
      "ohe__cylinders_6 cylinders     : 1157.182\n",
      "ohe__paint_color_orange        : 918.984\n"
     ]
    }
   ],
   "source": [
    "# Lets filter out year and odometer from the coefficient results\n",
    "# We first print out the top 20 coefficients\n",
    "i = 0\n",
    "count = 0\n",
    "while( count < 20 ):\n",
    "    coef, col = coef_values[i]\n",
    "    if( \"year\" not in col and \"odometer\" not in col ):\n",
    "        count += 1\n",
    "        print( f\"{col:<30} : {coef:.3f}\" )\n",
    "    i += 1"
   ]
  },
  {
   "cell_type": "markdown",
   "metadata": {},
   "source": [
    "It seems like the sales price increases as the number of cylinders increases. Also, normal type of cars such as convertibles and trucks have a higher price. Interestingly, cars that use diesel fuel have a higher price, perhaps due to how diesel is said to be more efficient than gasoline. Last but not least, it's funny to see that orange paint has the highest coefficient. Perhaps this is due to luxury cars having more orange colored models?"
   ]
  },
  {
   "cell_type": "code",
   "execution_count": 369,
   "metadata": {},
   "outputs": [
    {
     "name": "stdout",
     "output_type": "stream",
     "text": [
      "ohe__manufacturer_fiat         : -9292.329\n",
      "ohe__cylinders_3 cylinders     : -9013.338\n",
      "ohe__manufacturer_dodge        : -6367.811\n",
      "ohe__manufacturer_mercury      : -6142.013\n",
      "ohe__manufacturer_harley-davidson : -6020.912\n",
      "ohe__manufacturer_nissan       : -5708.867\n",
      "ohe__manufacturer_chrysler     : -5671.040\n",
      "ohe__manufacturer_kia          : -5659.160\n",
      "ohe__manufacturer_mitsubishi   : -5219.485\n",
      "ohe__manufacturer_hyundai      : -5118.060\n",
      "ohe__manufacturer_volkswagen   : -4793.683\n",
      "ohe__manufacturer_ram          : -4351.274\n",
      "ohe__manufacturer_ford         : -4238.389\n",
      "ohe__manufacturer_mini         : -4186.381\n",
      "ohe__manufacturer_infiniti     : -4079.557\n",
      "ohe__manufacturer_buick        : -3783.526\n",
      "ohe__manufacturer_chevrolet    : -3634.620\n",
      "ohe__manufacturer_bmw          : -3366.302\n",
      "ohe__manufacturer_cadillac     : -3353.938\n",
      "ohe__manufacturer_subaru       : -3280.984\n"
     ]
    }
   ],
   "source": [
    "# Lets filter out year and odometer from the coefficient results\n",
    "# This time, we'll print the smallest 20 coefficients\n",
    "i = -1\n",
    "count = 0\n",
    "while( count < 20 ):\n",
    "    coef, col = coef_values[i]\n",
    "    if( \"year\" not in col and \"odometer\" not in col ):\n",
    "        count += 1\n",
    "        print( f\"{col:<30} : {coef:.3f}\" )\n",
    "    i -= 1"
   ]
  },
  {
   "cell_type": "markdown",
   "metadata": {},
   "source": [
    "It's interesting how most of the negative coefficients are tied to the manufacturer. Perhaps this is to balance out the more expensive car manufacturers?"
   ]
  },
  {
   "cell_type": "markdown",
   "metadata": {},
   "source": [
    "Overall, we can see that year and odometer overwelm the top and bottom coefficients of the model. One thing to test is if they oversaturated the model and see what would happen if we removed these components:"
   ]
  },
  {
   "cell_type": "code",
   "execution_count": 372,
   "metadata": {},
   "outputs": [
    {
     "name": "stdout",
     "output_type": "stream",
     "text": [
      "Train MSE: 102549113.57146136\n",
      "Test MSE : 101891390.64112647\n"
     ]
    }
   ],
   "source": [
    "# Quick model training without \"year\" or \"odometer\"\n",
    "noYearOdometer_train, noYearOdometer_test = X_train.drop( [\"year\",\"odometer\"], axis = 1 ), X_test.drop( [\"year\",\"odometer\"], axis = 1 )\n",
    "\n",
    "pipe = Pipeline([\n",
    "    (\"preprocess\", ColumnTransformer([\n",
    "        ( \"ordinal\", oe, [\"condition\"] ),\n",
    "        ( \"ohe\", ohe, make_column_selector( \"^(?!condition$)\", dtype_include=[\"object\", \"category\"] ) )])),\n",
    "    (\"linreg\", LinearRegression() )\n",
    "])\n",
    "pipe.fit( noYearOdometer_train, y_train )\n",
    "\n",
    "# See how the model performed\n",
    "noFeature_train_mse = mean_squared_error( pipe.predict( noYearOdometer_train ), y_train )\n",
    "noFeature_test_mse = mean_squared_error( pipe.predict( noYearOdometer_test ), y_test )\n",
    "print( \"Train MSE:\", noFeature_train_mse )\n",
    "print( \"Test MSE :\", noFeature_test_mse )"
   ]
  },
  {
   "cell_type": "markdown",
   "metadata": {},
   "source": [
    "From what we can see, without year or odometer, the linear regression model performed a lot poorly than before, which confirms the permutation findings. Thus, they are both pretty important in determining price."
   ]
  },
  {
   "cell_type": "markdown",
   "metadata": {},
   "source": [
    "## Deployment\n",
    "\n",
    "Now that we've settled on our models and findings, it is time to deliver the information to the client.  You should organize your work as a basic report that details your primary findings.  Keep in mind that your audience is a group of used car dealers interested in fine tuning their inventory."
   ]
  },
  {
   "cell_type": "markdown",
   "metadata": {},
   "source": [
    "### Report\n",
    "\n",
    "Starting with a dataset of used car prices containing 426880 rows, most of the data are missing values while others had outliers that needed to be filtered out. In addition, features such as \"id\", \"VIN\", and \"model\" were removed from the dataset to maximize the amount of remaining data and remove unnecessary features. As a result, the main dataset was reduced to around 102029 rows, which is around 25% of the original dataset. Though reduced by such an amount, it still is a lot of data to conduct analysis on."
   ]
  },
  {
   "cell_type": "markdown",
   "metadata": {},
   "source": [
    "Utilizing multiple regression models such as Linear Regression and Ridge, I tried training the best model to predict used car sales prices. The models all shared similar error scores, with most having a mean error of around $\\$$7200 and the worst at $8700:\n",
    "![](images/testRMSE.png)"
   ]
  },
  {
   "cell_type": "markdown",
   "metadata": {},
   "source": [
    "From these models, I analyzed which features were the most impactful in determining sales price:\n",
    "![](images/importanceMeans.jpg)"
   ]
  },
  {
   "cell_type": "markdown",
   "metadata": {},
   "source": [
    "As we can see, **year, cylinders, odometer, and fuel** all have impact with **year** being the standout feature. Besides these 4, we note that **manufacturer, type, and drive** also have impact, but not as much. Any other feature such as **paint_color** or **condition** had very little impact."
   ]
  },
  {
   "cell_type": "markdown",
   "metadata": {},
   "source": [
    "Now that we know which features are impactful, I looked for how they exactly affect sales price by analyzing the coefficients in the linear regression model. Here are the results that I found (ordered by how impactful they are):\n",
    "* Used cars that were manufactured during recent years (2017-Present) will have a higher price than those that were released earlier. However, some antique cars that were manufactured way back in the past (1920's - 1950's) do have higher prices.\n",
    "* The more cylinders a used car has, the higher the sales price. This is probably due to the car having higher performance.\n",
    "* The price of used cars decreases as the odometer of the car increases. This is likely due to the customer having the perception of the car being too used.\n",
    "* Used cars that utilize diesel fuel cost more than those that use regular gasoline, in all likelihood due to the view that diesel powered vehicles are more efficient than gasoline powered vehicles\n",
    "* Used cars from expensive car brands such as Tesla or Ferrari will have higher prices because of their reputation. Cars with normal manufacturers such as Nissan will have a lower price.\n",
    "* Used cars that are convertibles, trucks/utility vehicles, or luxury cars have higher prices compared to regular automobiles.\n",
    "* Paint color, title_status, transmission, and condition do not have much impact on sales price"
   ]
  },
  {
   "cell_type": "markdown",
   "metadata": {},
   "source": [
    "### Summary\n",
    "To summarize, there are many factors that consumers use to increase/decrease a used car's value. These boil down to the used car's current reputational value, minimum usage, and performance. Factors such as paint color or condition have little to no impact on the price since these can be fixed easily. However, features such as the car's manufacturer or engine type are much more important because they define the used car and are usually immutable. This is demonstrated by the fact that the car's manufactured year is the strongest indicator for its price."
   ]
  },
  {
   "cell_type": "markdown",
   "metadata": {},
   "source": [
    "### Next Steps/Recommendations\n",
    "When managing their inventory for a car dealership, car dealers should pay attention to these factors to ensure a good variety in their business, so there's a supply for whatever consumers demand. They can also use these observations to decide on what used cars to purchase for the best return of investment. In addition, these factors can help car dealers structure their advertisements/pitches, focusing on car features that are valuable to the consumers. Lastly, when doing business, it would help if car dealers can confirm or deny the correlation between these features and used car prices. If not, then we would probably need a larger dataset to conduct analysis on."
   ]
  },
  {
   "cell_type": "markdown",
   "metadata": {},
   "source": [
    "### Reflection\n",
    "If I were to conduct this analysis again, I would have liked to have the whole 4 million dataset since I had to drop so many rows from the given dataset. In addition, I would probably try to use random forests since they seem more fitting to use for categorical variables. However, since we haven't gone through forests, I'm unsure if it's applicable to this problem. Besides that, I wish the dataset didn't have so many missing values. Though it would be interesting to try training with the whole dataset by imputing the missing values. However, with so many imputed values, the trained model might be completely off from the actual data."
   ]
  },
  {
   "cell_type": "code",
   "execution_count": null,
   "metadata": {},
   "outputs": [],
   "source": []
  }
 ],
 "metadata": {
  "kernelspec": {
   "display_name": "Python 3 (ipykernel)",
   "language": "python",
   "name": "python3"
  },
  "language_info": {
   "codemirror_mode": {
    "name": "ipython",
    "version": 3
   },
   "file_extension": ".py",
   "mimetype": "text/x-python",
   "name": "python",
   "nbconvert_exporter": "python",
   "pygments_lexer": "ipython3",
   "version": "3.11.5"
  },
  "widgets": {
   "application/vnd.jupyter.widget-state+json": {
    "state": {},
    "version_major": 2,
    "version_minor": 0
   }
  }
 },
 "nbformat": 4,
 "nbformat_minor": 4
}
